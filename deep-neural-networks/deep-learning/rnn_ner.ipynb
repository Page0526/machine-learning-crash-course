{
  "nbformat": 4,
  "nbformat_minor": 0,
  "metadata": {
    "colab": {
      "provenance": []
    },
    "kernelspec": {
      "name": "python3",
      "display_name": "Python 3"
    },
    "language_info": {
      "name": "python"
    }
  },
  "cells": [
    {
      "cell_type": "code",
      "execution_count": 1,
      "metadata": {
        "id": "7CwRs8oyhwOP"
      },
      "outputs": [],
      "source": [
        "# Import Libraries\n",
        "import numpy as np\n",
        "import torch\n",
        "import torch.nn as nn\n",
        "from torch.optim import Adam\n",
        "from torch.utils.data import Dataset, DataLoader\n",
        "from sklearn.metrics import classification_report\n",
        "from tqdm import tqdm"
      ]
    },
    {
      "cell_type": "code",
      "source": [
        "# Load CoNLL-2003 Dataset\n",
        "def load_conll2003_data(file_path):\n",
        "    sentences, tags = [], []\n",
        "    sentence, sentence_tags = [], []\n",
        "    with open(file_path, 'r') as f:\n",
        "        for line in f:\n",
        "            if line.strip() == \"\":\n",
        "                if sentence:\n",
        "                    sentences.append(sentence)\n",
        "                    tags.append(sentence_tags)\n",
        "                    sentence, sentence_tags = [], []\n",
        "            else:\n",
        "                word, _, _, tag = line.split()\n",
        "                sentence.append(word)\n",
        "                sentence_tags.append(tag)\n",
        "    return sentences, tags\n",
        "\n",
        "train_sentences, train_tags = load_conll2003_data('train_rnn.txt')\n",
        "test_sentences, test_tags = load_conll2003_data('test_rnn.txt')"
      ],
      "metadata": {
        "id": "F19tEmsnrB_t"
      },
      "execution_count": 4,
      "outputs": []
    },
    {
      "cell_type": "code",
      "source": [
        "# Preprocess Data\n",
        "def build_vocab(data):\n",
        "    vocab = {\"<PAD>\": 0, \"<UNK>\": 1}\n",
        "    for sentence in data:\n",
        "        for word in sentence:\n",
        "            if word not in vocab:\n",
        "                vocab[word] = len(vocab)\n",
        "    return vocab\n",
        "\n",
        "word_vocab = build_vocab(train_sentences)\n",
        "tag_vocab = build_vocab(train_tags)\n",
        "tag_reverse_vocab = {v: k for k, v in tag_vocab.items()}\n",
        "\n",
        "def encode_data(sentences, tags, word_vocab, tag_vocab, max_len=50):\n",
        "    encoded_sentences, encoded_tags = [], []\n",
        "    for sent, tag in zip(sentences, tags):\n",
        "        encoded_sentences.append([word_vocab.get(w, 1) for w in sent][:max_len] + [0] * (max_len - len(sent)))\n",
        "        encoded_tags.append([tag_vocab[t] for t in tag][:max_len] + [0] * (max_len - len(tag)))\n",
        "    return np.array(encoded_sentences), np.array(encoded_tags)\n",
        "\n",
        "train_inputs, train_labels = encode_data(train_sentences, train_tags, word_vocab, tag_vocab)\n",
        "test_inputs, test_labels = encode_data(test_sentences, test_tags, word_vocab, tag_vocab)"
      ],
      "metadata": {
        "id": "HJchZb_8tCTU"
      },
      "execution_count": 5,
      "outputs": []
    },
    {
      "cell_type": "code",
      "source": [
        "# Step 4: Define Dataset and DataLoader\n",
        "class NERDataset(Dataset):\n",
        "    def __init__(self, inputs, labels):\n",
        "        self.inputs = inputs\n",
        "        self.labels = labels\n",
        "\n",
        "    def __len__(self):\n",
        "        return len(self.inputs)\n",
        "\n",
        "    def __getitem__(self, idx):\n",
        "        return torch.tensor(self.inputs[idx]), torch.tensor(self.labels[idx])\n",
        "\n",
        "train_dataset = NERDataset(train_inputs, train_labels)\n",
        "test_dataset = NERDataset(test_inputs, test_labels)\n",
        "train_loader = DataLoader(train_dataset, batch_size=32, shuffle=True)\n",
        "test_loader = DataLoader(test_dataset, batch_size=32)\n",
        "\n",
        "# Define RNN Model\n",
        "class NERModel(nn.Module):\n",
        "    def __init__(self, vocab_size, tag_size, embedding_dim, hidden_dim):\n",
        "        super(NERModel, self).__init__()\n",
        "        self.embedding = nn.Embedding(vocab_size, embedding_dim)\n",
        "        self.rnn = nn.LSTM(embedding_dim, hidden_dim, batch_first=True)\n",
        "        self.fc = nn.Linear(hidden_dim, tag_size)\n",
        "\n",
        "    def forward(self, x):\n",
        "        x = self.embedding(x)\n",
        "        x, _ = self.rnn(x)\n",
        "        x = self.fc(x)\n",
        "        return x\n",
        "\n",
        "vocab_size = len(word_vocab)\n",
        "tag_size = len(tag_vocab)\n",
        "model = NERModel(vocab_size, tag_size, embedding_dim=100, hidden_dim=128)\n",
        "\n",
        "# Train the Model\n",
        "criterion = nn.CrossEntropyLoss()\n",
        "optimizer = Adam(model.parameters(), lr=0.001)\n",
        "\n",
        "def train_model(model, data_loader, criterion, optimizer, num_epochs=10):\n",
        "    ls_total_loss = []\n",
        "    model.train()\n",
        "    for epoch in range(num_epochs):\n",
        "        total_loss = 0\n",
        "        for inputs, labels in tqdm(data_loader):\n",
        "            optimizer.zero_grad()\n",
        "            outputs = model(inputs)\n",
        "            loss = criterion(outputs.view(-1, outputs.shape[-1]), labels.view(-1))\n",
        "            loss.backward()\n",
        "            optimizer.step()\n",
        "            total_loss += loss.item()\n",
        "            ls_total_loss.append(loss)\n",
        "        print(f\"Epoch {epoch+1}, Loss: {total_loss/len(data_loader)}\")\n",
        "\n",
        "    return ls_total_loss\n",
        "\n",
        "ls_total_loss = train_model(model, train_loader, criterion, optimizer)"
      ],
      "metadata": {
        "colab": {
          "base_uri": "https://localhost:8080/"
        },
        "id": "6z17VpydtZxE",
        "outputId": "0b85c86f-6911-4bbc-ef29-c2e7cbc4b77f"
      },
      "execution_count": 6,
      "outputs": [
        {
          "output_type": "stream",
          "name": "stderr",
          "text": [
            "100%|██████████| 469/469 [00:30<00:00, 15.49it/s]\n"
          ]
        },
        {
          "output_type": "stream",
          "name": "stdout",
          "text": [
            "Epoch 1, Loss: 0.2500246420407346\n"
          ]
        },
        {
          "output_type": "stream",
          "name": "stderr",
          "text": [
            "100%|██████████| 469/469 [00:26<00:00, 17.38it/s]\n"
          ]
        },
        {
          "output_type": "stream",
          "name": "stdout",
          "text": [
            "Epoch 2, Loss: 0.11834346242487304\n"
          ]
        },
        {
          "output_type": "stream",
          "name": "stderr",
          "text": [
            "100%|██████████| 469/469 [00:30<00:00, 15.54it/s]\n"
          ]
        },
        {
          "output_type": "stream",
          "name": "stdout",
          "text": [
            "Epoch 3, Loss: 0.07616348906970227\n"
          ]
        },
        {
          "output_type": "stream",
          "name": "stderr",
          "text": [
            "100%|██████████| 469/469 [00:27<00:00, 17.27it/s]\n"
          ]
        },
        {
          "output_type": "stream",
          "name": "stdout",
          "text": [
            "Epoch 4, Loss: 0.05191581035410163\n"
          ]
        },
        {
          "output_type": "stream",
          "name": "stderr",
          "text": [
            "100%|██████████| 469/469 [00:30<00:00, 15.53it/s]\n"
          ]
        },
        {
          "output_type": "stream",
          "name": "stdout",
          "text": [
            "Epoch 5, Loss: 0.036286151469516345\n"
          ]
        },
        {
          "output_type": "stream",
          "name": "stderr",
          "text": [
            "100%|██████████| 469/469 [00:30<00:00, 15.36it/s]\n"
          ]
        },
        {
          "output_type": "stream",
          "name": "stdout",
          "text": [
            "Epoch 6, Loss: 0.025545027821874823\n"
          ]
        },
        {
          "output_type": "stream",
          "name": "stderr",
          "text": [
            "100%|██████████| 469/469 [00:31<00:00, 14.98it/s]\n"
          ]
        },
        {
          "output_type": "stream",
          "name": "stdout",
          "text": [
            "Epoch 7, Loss: 0.01820599081725486\n"
          ]
        },
        {
          "output_type": "stream",
          "name": "stderr",
          "text": [
            "100%|██████████| 469/469 [00:26<00:00, 17.65it/s]\n"
          ]
        },
        {
          "output_type": "stream",
          "name": "stdout",
          "text": [
            "Epoch 8, Loss: 0.012889451892383254\n"
          ]
        },
        {
          "output_type": "stream",
          "name": "stderr",
          "text": [
            "100%|██████████| 469/469 [00:30<00:00, 15.52it/s]\n"
          ]
        },
        {
          "output_type": "stream",
          "name": "stdout",
          "text": [
            "Epoch 9, Loss: 0.009086941726811563\n"
          ]
        },
        {
          "output_type": "stream",
          "name": "stderr",
          "text": [
            "100%|██████████| 469/469 [00:27<00:00, 17.35it/s]"
          ]
        },
        {
          "output_type": "stream",
          "name": "stdout",
          "text": [
            "Epoch 10, Loss: 0.0063982628340989766\n"
          ]
        },
        {
          "output_type": "stream",
          "name": "stderr",
          "text": [
            "\n"
          ]
        }
      ]
    },
    {
      "cell_type": "code",
      "source": [
        "# plot training loss\n",
        "import matplotlib.pyplot as plt\n",
        "\n",
        "# Assuming `ls_total_loss` is a list of batch losses recorded during training\n",
        "def plot_training_loss(ls_total_loss, batch_size, dataset_size):\n",
        "    # Calculate the number of batches per epoch\n",
        "    ls_total_loss = [tl.cpu().item() if isinstance(tl, torch.Tensor) else tl for tl in ls_total_loss]\n",
        "    batches_per_epoch = dataset_size // batch_size + (dataset_size % batch_size > 0)\n",
        "    num_epochs = 10\n",
        "\n",
        "    # Generate x-axis values corresponding to batches\n",
        "    x_batches = range(1, len(ls_total_loss) + 1)\n",
        "\n",
        "    # Plot the training loss\n",
        "    plt.figure(figsize=(10, 6))\n",
        "    plt.plot(x_batches, ls_total_loss, label=\"Batch Loss\", alpha=0.8)\n",
        "    plt.xlabel(\"Batch\")\n",
        "    plt.ylabel(\"Loss\")\n",
        "    plt.title(f\"Training Loss over {num_epochs} Epochs\")\n",
        "    plt.axvline(x=batches_per_epoch, color=\"red\", linestyle=\"--\", label=\"Epoch Boundary\")\n",
        "    plt.legend()\n",
        "    plt.grid(True)\n",
        "    plt.show()"
      ],
      "metadata": {
        "id": "ig72yBCn0lg9"
      },
      "execution_count": 9,
      "outputs": []
    },
    {
      "cell_type": "code",
      "source": [
        "batch_size = 32\n",
        "dataset_size = len(train_dataset)\n",
        "plot_training_loss(ls_total_loss, batch_size, dataset_size)"
      ],
      "metadata": {
        "colab": {
          "base_uri": "https://localhost:8080/",
          "height": 564
        },
        "id": "g1JkeJfZ1p9G",
        "outputId": "8d28f6f5-3111-4e6d-f9d2-eb8ca8f180fa"
      },
      "execution_count": 10,
      "outputs": [
        {
          "output_type": "display_data",
          "data": {
            "text/plain": [
              "<Figure size 1000x600 with 1 Axes>"
            ],
            "image/png": "[encoded data removed]"
          },
          "metadata": {}
        }
      ]
    },
    {
      "cell_type": "code",
      "source": [
        "# Evaluate the Model\n",
        "def evaluate_model(model, data_loader, tag_reverse_vocab):\n",
        "    model.eval()\n",
        "    all_preds, all_labels = [], []\n",
        "    with torch.no_grad():\n",
        "        for inputs, labels in data_loader:\n",
        "            outputs = model(inputs)\n",
        "            preds = outputs.argmax(dim=-1).view(-1).cpu().numpy()\n",
        "            labels = labels.view(-1).cpu().numpy()\n",
        "            mask = labels != 0\n",
        "            all_preds.extend(preds[mask])\n",
        "            all_labels.extend(labels[mask])\n",
        "\n",
        "    # Get unique labels from predictions and ground truth\n",
        "    unique_labels = list(set(all_labels))\n",
        "\n",
        "    # Filter target names to match unique labels\n",
        "    target_names = [tag_reverse_vocab[label] for label in unique_labels if label in tag_reverse_vocab]\n",
        "\n",
        "    #Generate and print classification report\n",
        "    print(classification_report(all_labels, all_preds, target_names=target_names, labels=unique_labels))\n",
        "\n",
        "evaluate_model(model, test_loader, tag_reverse_vocab)"
      ],
      "metadata": {
        "colab": {
          "base_uri": "https://localhost:8080/"
        },
        "id": "5bmB6K6OvZJM",
        "outputId": "1be1be63-a2bb-4ee5-f466-68df76342753"
      },
      "execution_count": 11,
      "outputs": [
        {
          "output_type": "stream",
          "name": "stdout",
          "text": [
            "              precision    recall  f1-score   support\n",
            "\n",
            "           O       0.95      0.98      0.97     38378\n",
            "       B-ORG       0.61      0.57      0.59      1658\n",
            "      B-MISC       0.73      0.58      0.65       701\n",
            "       B-PER       0.86      0.49      0.63      1580\n",
            "       I-PER       0.90      0.47      0.62      1111\n",
            "       B-LOC       0.75      0.79      0.77      1656\n",
            "       I-ORG       0.61      0.63      0.62       827\n",
            "      I-MISC       0.58      0.54      0.56       216\n",
            "       I-LOC       0.54      0.57      0.55       255\n",
            "\n",
            "    accuracy                           0.92     46382\n",
            "   macro avg       0.72      0.63      0.66     46382\n",
            "weighted avg       0.91      0.92      0.91     46382\n",
            "\n"
          ]
        }
      ]
    }
  ]
}