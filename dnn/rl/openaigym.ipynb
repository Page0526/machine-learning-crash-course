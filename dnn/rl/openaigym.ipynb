{
 "cells": [
  {
   "cell_type": "code",
   "execution_count": 1,
   "id": "e9aa1baa",
   "metadata": {},
   "outputs": [
    {
     "name": "stderr",
     "output_type": "stream",
     "text": [
      "d:\\miniconda\\envs\\diffusion\\Lib\\site-packages\\gym\\utils\\passive_env_checker.py:233: DeprecationWarning: `np.bool8` is a deprecated alias for `np.bool_`.  (Deprecated NumPy 1.24)\n",
      "  if not isinstance(terminated, (bool, np.bool8)):\n"
     ]
    },
    {
     "name": "stdout",
     "output_type": "stream",
     "text": [
      "Iteration 1 and action 1\n",
      "Iteration 2 and action 0\n"
     ]
    }
   ],
   "source": [
    "import gym\n",
    "import time\n",
    "env = gym.make(\"FrozenLake-v1\", render_mode='human')\n",
    "env.reset()\n",
    "\n",
    "env.render()\n",
    "\n",
    "numberOfIterations=30\n",
    "\n",
    "for i in range(numberOfIterations):\n",
    "    random_action = env.action_space.sample()\n",
    "    returnValue = env.step(random_action)\n",
    "    env.render()\n",
    "\n",
    "    print('Iteration {} and action {}'.format(i+1, random_action))\n",
    "    time.sleep(2)\n",
    "    if returnValue[2]:\n",
    "        break\n",
    "\n",
    "env.close()"
   ]
  },
  {
   "cell_type": "code",
   "execution_count": 1,
   "id": "120a06f3",
   "metadata": {},
   "outputs": [
    {
     "name": "stderr",
     "output_type": "stream",
     "text": [
      "d:\\miniconda\\envs\\diffusion\\Lib\\site-packages\\gym\\envs\\toy_text\\frozen_lake.py:271: UserWarning: \u001b[33mWARN: You are calling render method without specifying any render mode. You can specify the render_mode at initialization, e.g. gym(\"FrozenLake-v1\", render_mode=\"rgb_array\")\u001b[0m\n",
      "  logger.warn(\n"
     ]
    }
   ],
   "source": [
    "import matplotlib.pyplot as plt\n",
    "import numpy as np\n",
    "import seaborn as sns\n",
    "import gym \n",
    "\n",
    "desc = [\"SFFF\", \"FFFF\", \"FFFF\", \"HFFG\"]\n",
    "env=gym.make('FrozenLake-v1', desc=desc, map_name=\"4x4\", is_slippery=True, render_mode=None)\n",
    "env.reset()\n",
    "env.render()\n",
    "\n",
    "env.close()"
   ]
  },
  {
   "cell_type": "code",
   "execution_count": 2,
   "id": "babf2a86",
   "metadata": {},
   "outputs": [
    {
     "data": {
      "text/plain": [
       "(4, 16)"
      ]
     },
     "execution_count": 2,
     "metadata": {},
     "output_type": "execute_result"
    }
   ],
   "source": [
    "env.action_space.n, env.observation_space.n"
   ]
  },
  {
   "cell_type": "code",
   "execution_count": 3,
   "id": "08bb212d",
   "metadata": {},
   "outputs": [
    {
     "data": {
      "text/plain": [
       "[(0.3333333333333333, 0, 0.0, False),\n",
       " (0.3333333333333333, 4, 0.0, False),\n",
       " (0.3333333333333333, 1, 0.0, False)]"
      ]
     },
     "execution_count": 3,
     "metadata": {},
     "output_type": "execute_result"
    }
   ],
   "source": [
    "# env.P[state][action]\n",
    "env.P[0][1] # (transition prob, next state, reward, is terminal state?)"
   ]
  },
  {
   "cell_type": "code",
   "execution_count": 2,
   "id": "8c8905e4",
   "metadata": {},
   "outputs": [],
   "source": [
    "# setup\n",
    "discountRate = 0.9\n",
    "# MC setup\n",
    "numberEpisodes = 10000\n",
    "# iterative value function evaluation (DP) setup\n",
    "numberOfIterations = 1000\n",
    "initPolicy = (1/env.action_space.n) * np.ones((env.observation_space.n, env.action_space.n))\n",
    "valueFunctionVectorInitial=np.zeros(env.observation_space.n)\n",
    "convergenceTolerance = 10**(-6)"
   ]
  },
  {
   "cell_type": "markdown",
   "id": "0d247803",
   "metadata": {},
   "source": [
    "## Policy Evaluation"
   ]
  },
  {
   "cell_type": "code",
   "execution_count": 5,
   "id": "a84a6053",
   "metadata": {},
   "outputs": [],
   "source": [
    "# dynamic programming - estimate based on bellman equaton\n",
    "def IterativeValueFunction(env, valueFunctionVector, numberIterations, policy, convergenceTolerance, discountRate=0.9):\n",
    "    convergenceTrack = []\n",
    "    for iterations in range(numberIterations):\n",
    "        convergenceTrack.append(np.linalg.norm(valueFunctionVector, 2))\n",
    "        valueFunctionVectorNextIteration = np.zeros(env.observation_space.n)\n",
    "        # loop through every state\n",
    "        for state in env.P:\n",
    "            outerSum = 0\n",
    "            # loop through each possible action in state\n",
    "            for action in env.P[state]:\n",
    "                innerSum = 0\n",
    "                for prob, nextState, reward, isTerminalState in env.P[state][action]:\n",
    "                    innerSum = innerSum + prob * (reward + discountRate*valueFunctionVector[nextState])\n",
    "                outerSum=outerSum + policy[state, action]*innerSum\n",
    "            valueFunctionVectorNextIteration[state] = outerSum\n",
    "\n",
    "        if np.max(np.abs(valueFunctionVectorNextIteration - valueFunctionVector)) < convergenceTolerance:\n",
    "            valueFunctionVector = valueFunctionVectorNextIteration\n",
    "            break\n",
    "        valueFunctionVector = valueFunctionVectorNextIteration\n",
    "\n",
    "    return valueFunctionVector, convergenceTrack"
   ]
  },
  {
   "cell_type": "code",
   "execution_count": 6,
   "id": "d16e02ad",
   "metadata": {},
   "outputs": [],
   "source": [
    "valueFunctionVector, convergenceTrack = IterativeValueFunction(env, valueFunctionVector=valueFunctionVectorInitial, numberIterations=numberOfIterations, policy=initPolicy, convergenceTolerance=convergenceTolerance, discountRate=discountRate)"
   ]
  },
  {
   "cell_type": "code",
   "execution_count": 7,
   "id": "99ba35fa",
   "metadata": {},
   "outputs": [],
   "source": [
    "def grid_print(valueFunction, reshapeDim):\n",
    "    ax = sns.heatmap(valueFunction.reshape(4, 4), annot=True, square=True, cbar=False, cmap='Blues', xticklabels=False, yticklabels=False)\n",
    "    plt.show()"
   ]
  },
  {
   "cell_type": "code",
   "execution_count": 9,
   "id": "6fe64dc0",
   "metadata": {},
   "outputs": [
    {
     "data": {
      "image/png": "[encoded data removed]",
      "text/plain": [
       "<Figure size 640x480 with 1 Axes>"
      ]
     },
     "metadata": {},
     "output_type": "display_data"
    }
   ],
   "source": [
    "plt.plot(convergenceTrack)\n",
    "plt.xlabel('steps')\n",
    "plt.ylabel('Norm of the value function vector')\n",
    "plt.show()"
   ]
  },
  {
   "cell_type": "code",
   "execution_count": 10,
   "id": "6eff5867",
   "metadata": {},
   "outputs": [
    {
     "data": {
      "text/plain": [
       "(16,\n",
       " {0: {0: [(0.3333333333333333, 0, 0.0, False),\n",
       "    (0.3333333333333333, 0, 0.0, False),\n",
       "    (0.3333333333333333, 4, 0.0, False)],\n",
       "   1: [(0.3333333333333333, 0, 0.0, False),\n",
       "    (0.3333333333333333, 4, 0.0, False),\n",
       "    (0.3333333333333333, 1, 0.0, False)],\n",
       "   2: [(0.3333333333333333, 4, 0.0, False),\n",
       "    (0.3333333333333333, 1, 0.0, False),\n",
       "    (0.3333333333333333, 0, 0.0, False)],\n",
       "   3: [(0.3333333333333333, 1, 0.0, False),\n",
       "    (0.3333333333333333, 0, 0.0, False),\n",
       "    (0.3333333333333333, 0, 0.0, False)]},\n",
       "  1: {0: [(0.3333333333333333, 1, 0.0, False),\n",
       "    (0.3333333333333333, 0, 0.0, False),\n",
       "    (0.3333333333333333, 5, 0.0, False)],\n",
       "   1: [(0.3333333333333333, 0, 0.0, False),\n",
       "    (0.3333333333333333, 5, 0.0, False),\n",
       "    (0.3333333333333333, 2, 0.0, False)],\n",
       "   2: [(0.3333333333333333, 5, 0.0, False),\n",
       "    (0.3333333333333333, 2, 0.0, False),\n",
       "    (0.3333333333333333, 1, 0.0, False)],\n",
       "   3: [(0.3333333333333333, 2, 0.0, False),\n",
       "    (0.3333333333333333, 1, 0.0, False),\n",
       "    (0.3333333333333333, 0, 0.0, False)]},\n",
       "  2: {0: [(0.3333333333333333, 2, 0.0, False),\n",
       "    (0.3333333333333333, 1, 0.0, False),\n",
       "    (0.3333333333333333, 6, 0.0, False)],\n",
       "   1: [(0.3333333333333333, 1, 0.0, False),\n",
       "    (0.3333333333333333, 6, 0.0, False),\n",
       "    (0.3333333333333333, 3, 0.0, False)],\n",
       "   2: [(0.3333333333333333, 6, 0.0, False),\n",
       "    (0.3333333333333333, 3, 0.0, False),\n",
       "    (0.3333333333333333, 2, 0.0, False)],\n",
       "   3: [(0.3333333333333333, 3, 0.0, False),\n",
       "    (0.3333333333333333, 2, 0.0, False),\n",
       "    (0.3333333333333333, 1, 0.0, False)]},\n",
       "  3: {0: [(0.3333333333333333, 3, 0.0, False),\n",
       "    (0.3333333333333333, 2, 0.0, False),\n",
       "    (0.3333333333333333, 7, 0.0, False)],\n",
       "   1: [(0.3333333333333333, 2, 0.0, False),\n",
       "    (0.3333333333333333, 7, 0.0, False),\n",
       "    (0.3333333333333333, 3, 0.0, False)],\n",
       "   2: [(0.3333333333333333, 7, 0.0, False),\n",
       "    (0.3333333333333333, 3, 0.0, False),\n",
       "    (0.3333333333333333, 3, 0.0, False)],\n",
       "   3: [(0.3333333333333333, 3, 0.0, False),\n",
       "    (0.3333333333333333, 3, 0.0, False),\n",
       "    (0.3333333333333333, 2, 0.0, False)]},\n",
       "  4: {0: [(0.3333333333333333, 0, 0.0, False),\n",
       "    (0.3333333333333333, 4, 0.0, False),\n",
       "    (0.3333333333333333, 8, 0.0, False)],\n",
       "   1: [(0.3333333333333333, 4, 0.0, False),\n",
       "    (0.3333333333333333, 8, 0.0, False),\n",
       "    (0.3333333333333333, 5, 0.0, False)],\n",
       "   2: [(0.3333333333333333, 8, 0.0, False),\n",
       "    (0.3333333333333333, 5, 0.0, False),\n",
       "    (0.3333333333333333, 0, 0.0, False)],\n",
       "   3: [(0.3333333333333333, 5, 0.0, False),\n",
       "    (0.3333333333333333, 0, 0.0, False),\n",
       "    (0.3333333333333333, 4, 0.0, False)]},\n",
       "  5: {0: [(0.3333333333333333, 1, 0.0, False),\n",
       "    (0.3333333333333333, 4, 0.0, False),\n",
       "    (0.3333333333333333, 9, 0.0, False)],\n",
       "   1: [(0.3333333333333333, 4, 0.0, False),\n",
       "    (0.3333333333333333, 9, 0.0, False),\n",
       "    (0.3333333333333333, 6, 0.0, False)],\n",
       "   2: [(0.3333333333333333, 9, 0.0, False),\n",
       "    (0.3333333333333333, 6, 0.0, False),\n",
       "    (0.3333333333333333, 1, 0.0, False)],\n",
       "   3: [(0.3333333333333333, 6, 0.0, False),\n",
       "    (0.3333333333333333, 1, 0.0, False),\n",
       "    (0.3333333333333333, 4, 0.0, False)]},\n",
       "  6: {0: [(0.3333333333333333, 2, 0.0, False),\n",
       "    (0.3333333333333333, 5, 0.0, False),\n",
       "    (0.3333333333333333, 10, 0.0, False)],\n",
       "   1: [(0.3333333333333333, 5, 0.0, False),\n",
       "    (0.3333333333333333, 10, 0.0, False),\n",
       "    (0.3333333333333333, 7, 0.0, False)],\n",
       "   2: [(0.3333333333333333, 10, 0.0, False),\n",
       "    (0.3333333333333333, 7, 0.0, False),\n",
       "    (0.3333333333333333, 2, 0.0, False)],\n",
       "   3: [(0.3333333333333333, 7, 0.0, False),\n",
       "    (0.3333333333333333, 2, 0.0, False),\n",
       "    (0.3333333333333333, 5, 0.0, False)]},\n",
       "  7: {0: [(0.3333333333333333, 3, 0.0, False),\n",
       "    (0.3333333333333333, 6, 0.0, False),\n",
       "    (0.3333333333333333, 11, 0.0, False)],\n",
       "   1: [(0.3333333333333333, 6, 0.0, False),\n",
       "    (0.3333333333333333, 11, 0.0, False),\n",
       "    (0.3333333333333333, 7, 0.0, False)],\n",
       "   2: [(0.3333333333333333, 11, 0.0, False),\n",
       "    (0.3333333333333333, 7, 0.0, False),\n",
       "    (0.3333333333333333, 3, 0.0, False)],\n",
       "   3: [(0.3333333333333333, 7, 0.0, False),\n",
       "    (0.3333333333333333, 3, 0.0, False),\n",
       "    (0.3333333333333333, 6, 0.0, False)]},\n",
       "  8: {0: [(0.3333333333333333, 4, 0.0, False),\n",
       "    (0.3333333333333333, 8, 0.0, False),\n",
       "    (0.3333333333333333, 12, 0.0, True)],\n",
       "   1: [(0.3333333333333333, 8, 0.0, False),\n",
       "    (0.3333333333333333, 12, 0.0, True),\n",
       "    (0.3333333333333333, 9, 0.0, False)],\n",
       "   2: [(0.3333333333333333, 12, 0.0, True),\n",
       "    (0.3333333333333333, 9, 0.0, False),\n",
       "    (0.3333333333333333, 4, 0.0, False)],\n",
       "   3: [(0.3333333333333333, 9, 0.0, False),\n",
       "    (0.3333333333333333, 4, 0.0, False),\n",
       "    (0.3333333333333333, 8, 0.0, False)]},\n",
       "  9: {0: [(0.3333333333333333, 5, 0.0, False),\n",
       "    (0.3333333333333333, 8, 0.0, False),\n",
       "    (0.3333333333333333, 13, 0.0, False)],\n",
       "   1: [(0.3333333333333333, 8, 0.0, False),\n",
       "    (0.3333333333333333, 13, 0.0, False),\n",
       "    (0.3333333333333333, 10, 0.0, False)],\n",
       "   2: [(0.3333333333333333, 13, 0.0, False),\n",
       "    (0.3333333333333333, 10, 0.0, False),\n",
       "    (0.3333333333333333, 5, 0.0, False)],\n",
       "   3: [(0.3333333333333333, 10, 0.0, False),\n",
       "    (0.3333333333333333, 5, 0.0, False),\n",
       "    (0.3333333333333333, 8, 0.0, False)]},\n",
       "  10: {0: [(0.3333333333333333, 6, 0.0, False),\n",
       "    (0.3333333333333333, 9, 0.0, False),\n",
       "    (0.3333333333333333, 14, 0.0, False)],\n",
       "   1: [(0.3333333333333333, 9, 0.0, False),\n",
       "    (0.3333333333333333, 14, 0.0, False),\n",
       "    (0.3333333333333333, 11, 0.0, False)],\n",
       "   2: [(0.3333333333333333, 14, 0.0, False),\n",
       "    (0.3333333333333333, 11, 0.0, False),\n",
       "    (0.3333333333333333, 6, 0.0, False)],\n",
       "   3: [(0.3333333333333333, 11, 0.0, False),\n",
       "    (0.3333333333333333, 6, 0.0, False),\n",
       "    (0.3333333333333333, 9, 0.0, False)]},\n",
       "  11: {0: [(0.3333333333333333, 7, 0.0, False),\n",
       "    (0.3333333333333333, 10, 0.0, False),\n",
       "    (0.3333333333333333, 15, 1.0, True)],\n",
       "   1: [(0.3333333333333333, 10, 0.0, False),\n",
       "    (0.3333333333333333, 15, 1.0, True),\n",
       "    (0.3333333333333333, 11, 0.0, False)],\n",
       "   2: [(0.3333333333333333, 15, 1.0, True),\n",
       "    (0.3333333333333333, 11, 0.0, False),\n",
       "    (0.3333333333333333, 7, 0.0, False)],\n",
       "   3: [(0.3333333333333333, 11, 0.0, False),\n",
       "    (0.3333333333333333, 7, 0.0, False),\n",
       "    (0.3333333333333333, 10, 0.0, False)]},\n",
       "  12: {0: [(1.0, 12, 0, True)],\n",
       "   1: [(1.0, 12, 0, True)],\n",
       "   2: [(1.0, 12, 0, True)],\n",
       "   3: [(1.0, 12, 0, True)]},\n",
       "  13: {0: [(0.3333333333333333, 9, 0.0, False),\n",
       "    (0.3333333333333333, 12, 0.0, True),\n",
       "    (0.3333333333333333, 13, 0.0, False)],\n",
       "   1: [(0.3333333333333333, 12, 0.0, True),\n",
       "    (0.3333333333333333, 13, 0.0, False),\n",
       "    (0.3333333333333333, 14, 0.0, False)],\n",
       "   2: [(0.3333333333333333, 13, 0.0, False),\n",
       "    (0.3333333333333333, 14, 0.0, False),\n",
       "    (0.3333333333333333, 9, 0.0, False)],\n",
       "   3: [(0.3333333333333333, 14, 0.0, False),\n",
       "    (0.3333333333333333, 9, 0.0, False),\n",
       "    (0.3333333333333333, 12, 0.0, True)]},\n",
       "  14: {0: [(0.3333333333333333, 10, 0.0, False),\n",
       "    (0.3333333333333333, 13, 0.0, False),\n",
       "    (0.3333333333333333, 14, 0.0, False)],\n",
       "   1: [(0.3333333333333333, 13, 0.0, False),\n",
       "    (0.3333333333333333, 14, 0.0, False),\n",
       "    (0.3333333333333333, 15, 1.0, True)],\n",
       "   2: [(0.3333333333333333, 14, 0.0, False),\n",
       "    (0.3333333333333333, 15, 1.0, True),\n",
       "    (0.3333333333333333, 10, 0.0, False)],\n",
       "   3: [(0.3333333333333333, 15, 1.0, True),\n",
       "    (0.3333333333333333, 10, 0.0, False),\n",
       "    (0.3333333333333333, 13, 0.0, False)]},\n",
       "  15: {0: [(1.0, 15, 0, True)],\n",
       "   1: [(1.0, 15, 0, True)],\n",
       "   2: [(1.0, 15, 0, True)],\n",
       "   3: [(1.0, 15, 0, True)]}})"
      ]
     },
     "execution_count": 10,
     "metadata": {},
     "output_type": "execute_result"
    }
   ],
   "source": [
    "len(env.P), env.P"
   ]
  },
  {
   "cell_type": "markdown",
   "id": "f95543ea",
   "metadata": {},
   "source": [
    "## Compare with MC value function estimate"
   ]
  },
  {
   "cell_type": "code",
   "execution_count": 7,
   "id": "bcdc9d38",
   "metadata": {},
   "outputs": [],
   "source": [
    "from mc_evaluation import MonteCarloStateValueFunction"
   ]
  },
  {
   "cell_type": "code",
   "execution_count": 12,
   "id": "7cfa688e",
   "metadata": {},
   "outputs": [
    {
     "data": {
      "text/plain": [
       "(16, 16)"
      ]
     },
     "execution_count": 12,
     "metadata": {},
     "output_type": "execute_result"
    }
   ],
   "source": [
    "env.observation_space.n, len(env.P)"
   ]
  },
  {
   "cell_type": "code",
   "execution_count": 14,
   "id": "e5b72e68",
   "metadata": {},
   "outputs": [],
   "source": [
    "estimateValueFunctionVector = MonteCarloStateValueFunction(env, stateNumber=env.observation_space.n, episodes=numberEpisodes, discountRate=discountRate)"
   ]
  },
  {
   "cell_type": "code",
   "execution_count": 8,
   "id": "a2109783",
   "metadata": {},
   "outputs": [
    {
     "data": {
      "image/png": "[encoded data removed]",
      "text/plain": [
       "<Figure size 640x480 with 1 Axes>"
      ]
     },
     "metadata": {},
     "output_type": "display_data"
    }
   ],
   "source": [
    "grid_print(valueFunctionVector, 4)"
   ]
  },
  {
   "cell_type": "code",
   "execution_count": 15,
   "id": "e34419e7",
   "metadata": {},
   "outputs": [
    {
     "data": {
      "image/png": "[encoded data removed]",
      "text/plain": [
       "<Figure size 640x480 with 1 Axes>"
      ]
     },
     "metadata": {},
     "output_type": "display_data"
    }
   ],
   "source": [
    "grid_print(estimateValueFunctionVector, 4)"
   ]
  },
  {
   "cell_type": "markdown",
   "id": "6f419fa7",
   "metadata": {},
   "source": [
    "## Policy Iteration"
   ]
  },
  {
   "cell_type": "code",
   "execution_count": 20,
   "id": "06c28ac7",
   "metadata": {},
   "outputs": [
    {
     "data": {
      "text/plain": [
       "array([[0.  , 0.5 , 0.5 , 0.  ],\n",
       "       [0.  , 0.  , 1.  , 0.  ],\n",
       "       [0.  , 0.  , 1.  , 0.  ],\n",
       "       [0.  , 0.  , 1.  , 0.  ],\n",
       "       [0.  , 1.  , 0.  , 0.  ],\n",
       "       [0.  , 0.  , 1.  , 0.  ],\n",
       "       [0.  , 1.  , 0.  , 0.  ],\n",
       "       [0.  , 1.  , 0.  , 0.  ],\n",
       "       [0.  , 0.  , 0.  , 1.  ],\n",
       "       [0.  , 0.  , 1.  , 0.  ],\n",
       "       [0.  , 0.  , 1.  , 0.  ],\n",
       "       [0.  , 1.  , 0.  , 0.  ],\n",
       "       [0.25, 0.25, 0.25, 0.25],\n",
       "       [0.  , 0.  , 1.  , 0.  ],\n",
       "       [0.  , 0.  , 1.  , 0.  ],\n",
       "       [0.25, 0.25, 0.25, 0.25]])"
      ]
     },
     "execution_count": 20,
     "metadata": {},
     "output_type": "execute_result"
    }
   ],
   "source": [
    "from policy_iteration import policyIteration\n",
    "\n",
    "policyIteration(env, valueFunctionVectorInitial, initPolicy, numberOfIterations, numberOfIterations, convergenceTolerance, discountRate)"
   ]
  },
  {
   "cell_type": "code",
   "execution_count": 3,
   "id": "f48f8c7a",
   "metadata": {},
   "outputs": [
    {
     "name": "stderr",
     "output_type": "stream",
     "text": [
      "d:\\miniconda\\envs\\diffusion\\Lib\\site-packages\\gym\\utils\\passive_env_checker.py:233: DeprecationWarning: `np.bool8` is a deprecated alias for `np.bool_`.  (Deprecated NumPy 1.24)\n",
      "  if not isinstance(terminated, (bool, np.bool8)):\n"
     ]
    }
   ],
   "source": [
    "from policy_iteration import policyImprovement\n",
    "from mc_evaluation import MonteCarloStateValueFunction\n",
    "\n",
    "for iter in range(numberOfIterations):\n",
    "    if iter == 0:\n",
    "        currentPolicy = initPolicy\n",
    "    \n",
    "    estimateValueFunctionVector = MonteCarloStateValueFunction(env, stateNumber=env.observation_space.n, episodes=numberEpisodes, discountRate=discountRate)\n",
    "    improvedPolicy,_ = policyImprovement(env, estimateValueFunctionVector, env.action_space.n, env.observation_space.n, discountRate)\n",
    "\n",
    "    if np.allclose(currentPolicy, improvedPolicy):\n",
    "        currentPolicy = improvedPolicy\n",
    "        break\n",
    "    currentPolicy = improvedPolicy"
   ]
  },
  {
   "cell_type": "code",
   "execution_count": 5,
   "id": "fb57f9f3",
   "metadata": {},
   "outputs": [
    {
     "data": {
      "text/plain": [
       "(array([1, 2, 2, 2, 1, 2, 2, 1, 3, 2, 2, 1, 0, 2, 2, 0], dtype=int64),\n",
       " array([[0.  , 0.5 , 0.5 , 0.  ],\n",
       "        [0.  , 0.  , 1.  , 0.  ],\n",
       "        [0.  , 0.  , 1.  , 0.  ],\n",
       "        [0.  , 0.  , 1.  , 0.  ],\n",
       "        [0.  , 1.  , 0.  , 0.  ],\n",
       "        [0.  , 0.  , 1.  , 0.  ],\n",
       "        [0.  , 0.  , 1.  , 0.  ],\n",
       "        [0.  , 1.  , 0.  , 0.  ],\n",
       "        [0.  , 0.  , 0.  , 1.  ],\n",
       "        [0.  , 0.  , 1.  , 0.  ],\n",
       "        [0.  , 0.  , 1.  , 0.  ],\n",
       "        [0.  , 1.  , 0.  , 0.  ],\n",
       "        [0.25, 0.25, 0.25, 0.25],\n",
       "        [0.  , 0.  , 1.  , 0.  ],\n",
       "        [0.  , 0.  , 1.  , 0.  ],\n",
       "        [0.25, 0.25, 0.25, 0.25]]))"
      ]
     },
     "execution_count": 5,
     "metadata": {},
     "output_type": "execute_result"
    }
   ],
   "source": [
    "finalPolicy = np.argmax(currentPolicy, axis=1)\n",
    "finalPolicy, currentPolicy"
   ]
  },
  {
   "cell_type": "code",
   "execution_count": 7,
   "id": "572957d1",
   "metadata": {},
   "outputs": [
    {
     "ename": "KeyboardInterrupt",
     "evalue": "",
     "output_type": "error",
     "traceback": [
      "\u001b[31m---------------------------------------------------------------------------\u001b[39m",
      "\u001b[31mKeyboardInterrupt\u001b[39m                         Traceback (most recent call last)",
      "\u001b[36mCell\u001b[39m\u001b[36m \u001b[39m\u001b[32mIn[7]\u001b[39m\u001b[32m, line 11\u001b[39m\n\u001b[32m      8\u001b[39m \u001b[38;5;28;01mfor\u001b[39;00m i \u001b[38;5;129;01min\u001b[39;00m \u001b[38;5;28mrange\u001b[39m(\u001b[32m100\u001b[39m):\n\u001b[32m      9\u001b[39m     \u001b[38;5;66;03m# here we step and return the state, reward, and boolean denoting if the state is a terminal state\u001b[39;00m\n\u001b[32m     10\u001b[39m     \u001b[38;5;28;01mif\u001b[39;00m \u001b[38;5;129;01mnot\u001b[39;00m terminalState:\n\u001b[32m---> \u001b[39m\u001b[32m11\u001b[39m         (currentState, currentReward, terminalState,_,_) = \u001b[43menv\u001b[49m\u001b[43m.\u001b[49m\u001b[43mstep\u001b[49m\u001b[43m(\u001b[49m\u001b[38;5;28;43mint\u001b[39;49m\u001b[43m(\u001b[49m\u001b[43mfinalPolicy\u001b[49m\u001b[43m[\u001b[49m\u001b[43mcurrentState\u001b[49m\u001b[43m]\u001b[49m\u001b[43m)\u001b[49m\u001b[43m)\u001b[49m\n\u001b[32m     13\u001b[39m     \u001b[38;5;28;01melse\u001b[39;00m:\n\u001b[32m     14\u001b[39m         \u001b[38;5;28;01mbreak\u001b[39;00m\n",
      "\u001b[36mFile \u001b[39m\u001b[32md:\\miniconda\\envs\\diffusion\\Lib\\site-packages\\gym\\wrappers\\time_limit.py:50\u001b[39m, in \u001b[36mTimeLimit.step\u001b[39m\u001b[34m(self, action)\u001b[39m\n\u001b[32m     39\u001b[39m \u001b[38;5;28;01mdef\u001b[39;00m\u001b[38;5;250m \u001b[39m\u001b[34mstep\u001b[39m(\u001b[38;5;28mself\u001b[39m, action):\n\u001b[32m     40\u001b[39m \u001b[38;5;250m    \u001b[39m\u001b[33;03m\"\"\"Steps through the environment and if the number of steps elapsed exceeds ``max_episode_steps`` then truncate.\u001b[39;00m\n\u001b[32m     41\u001b[39m \n\u001b[32m     42\u001b[39m \u001b[33;03m    Args:\u001b[39;00m\n\u001b[32m   (...)\u001b[39m\u001b[32m     48\u001b[39m \n\u001b[32m     49\u001b[39m \u001b[33;03m    \"\"\"\u001b[39;00m\n\u001b[32m---> \u001b[39m\u001b[32m50\u001b[39m     observation, reward, terminated, truncated, info = \u001b[38;5;28;43mself\u001b[39;49m\u001b[43m.\u001b[49m\u001b[43menv\u001b[49m\u001b[43m.\u001b[49m\u001b[43mstep\u001b[49m\u001b[43m(\u001b[49m\u001b[43maction\u001b[49m\u001b[43m)\u001b[49m\n\u001b[32m     51\u001b[39m     \u001b[38;5;28mself\u001b[39m._elapsed_steps += \u001b[32m1\u001b[39m\n\u001b[32m     53\u001b[39m     \u001b[38;5;28;01mif\u001b[39;00m \u001b[38;5;28mself\u001b[39m._elapsed_steps >= \u001b[38;5;28mself\u001b[39m._max_episode_steps:\n",
      "\u001b[36mFile \u001b[39m\u001b[32md:\\miniconda\\envs\\diffusion\\Lib\\site-packages\\gym\\wrappers\\order_enforcing.py:37\u001b[39m, in \u001b[36mOrderEnforcing.step\u001b[39m\u001b[34m(self, action)\u001b[39m\n\u001b[32m     35\u001b[39m \u001b[38;5;28;01mif\u001b[39;00m \u001b[38;5;129;01mnot\u001b[39;00m \u001b[38;5;28mself\u001b[39m._has_reset:\n\u001b[32m     36\u001b[39m     \u001b[38;5;28;01mraise\u001b[39;00m ResetNeeded(\u001b[33m\"\u001b[39m\u001b[33mCannot call env.step() before calling env.reset()\u001b[39m\u001b[33m\"\u001b[39m)\n\u001b[32m---> \u001b[39m\u001b[32m37\u001b[39m \u001b[38;5;28;01mreturn\u001b[39;00m \u001b[38;5;28;43mself\u001b[39;49m\u001b[43m.\u001b[49m\u001b[43menv\u001b[49m\u001b[43m.\u001b[49m\u001b[43mstep\u001b[49m\u001b[43m(\u001b[49m\u001b[43maction\u001b[49m\u001b[43m)\u001b[49m\n",
      "\u001b[36mFile \u001b[39m\u001b[32md:\\miniconda\\envs\\diffusion\\Lib\\site-packages\\gym\\wrappers\\env_checker.py:39\u001b[39m, in \u001b[36mPassiveEnvChecker.step\u001b[39m\u001b[34m(self, action)\u001b[39m\n\u001b[32m     37\u001b[39m     \u001b[38;5;28;01mreturn\u001b[39;00m env_step_passive_checker(\u001b[38;5;28mself\u001b[39m.env, action)\n\u001b[32m     38\u001b[39m \u001b[38;5;28;01melse\u001b[39;00m:\n\u001b[32m---> \u001b[39m\u001b[32m39\u001b[39m     \u001b[38;5;28;01mreturn\u001b[39;00m \u001b[38;5;28;43mself\u001b[39;49m\u001b[43m.\u001b[49m\u001b[43menv\u001b[49m\u001b[43m.\u001b[49m\u001b[43mstep\u001b[49m\u001b[43m(\u001b[49m\u001b[43maction\u001b[49m\u001b[43m)\u001b[49m\n",
      "\u001b[36mFile \u001b[39m\u001b[32md:\\miniconda\\envs\\diffusion\\Lib\\site-packages\\gym\\envs\\toy_text\\frozen_lake.py:252\u001b[39m, in \u001b[36mFrozenLakeEnv.step\u001b[39m\u001b[34m(self, a)\u001b[39m\n\u001b[32m    249\u001b[39m \u001b[38;5;28mself\u001b[39m.lastaction = a\n\u001b[32m    251\u001b[39m \u001b[38;5;28;01mif\u001b[39;00m \u001b[38;5;28mself\u001b[39m.render_mode == \u001b[33m\"\u001b[39m\u001b[33mhuman\u001b[39m\u001b[33m\"\u001b[39m:\n\u001b[32m--> \u001b[39m\u001b[32m252\u001b[39m     \u001b[38;5;28;43mself\u001b[39;49m\u001b[43m.\u001b[49m\u001b[43mrender\u001b[49m\u001b[43m(\u001b[49m\u001b[43m)\u001b[49m\n\u001b[32m    253\u001b[39m \u001b[38;5;28;01mreturn\u001b[39;00m (\u001b[38;5;28mint\u001b[39m(s), r, t, \u001b[38;5;28;01mFalse\u001b[39;00m, {\u001b[33m\"\u001b[39m\u001b[33mprob\u001b[39m\u001b[33m\"\u001b[39m: p})\n",
      "\u001b[36mFile \u001b[39m\u001b[32md:\\miniconda\\envs\\diffusion\\Lib\\site-packages\\gym\\envs\\toy_text\\frozen_lake.py:279\u001b[39m, in \u001b[36mFrozenLakeEnv.render\u001b[39m\u001b[34m(self)\u001b[39m\n\u001b[32m    277\u001b[39m     \u001b[38;5;28;01mreturn\u001b[39;00m \u001b[38;5;28mself\u001b[39m._render_text()\n\u001b[32m    278\u001b[39m \u001b[38;5;28;01melse\u001b[39;00m:  \u001b[38;5;66;03m# self.render_mode in {\"human\", \"rgb_array\"}:\u001b[39;00m\n\u001b[32m--> \u001b[39m\u001b[32m279\u001b[39m     \u001b[38;5;28;01mreturn\u001b[39;00m \u001b[38;5;28;43mself\u001b[39;49m\u001b[43m.\u001b[49m\u001b[43m_render_gui\u001b[49m\u001b[43m(\u001b[49m\u001b[38;5;28;43mself\u001b[39;49m\u001b[43m.\u001b[49m\u001b[43mrender_mode\u001b[49m\u001b[43m)\u001b[49m\n",
      "\u001b[36mFile \u001b[39m\u001b[32md:\\miniconda\\envs\\diffusion\\Lib\\site-packages\\gym\\envs\\toy_text\\frozen_lake.py:373\u001b[39m, in \u001b[36mFrozenLakeEnv._render_gui\u001b[39m\u001b[34m(self, mode)\u001b[39m\n\u001b[32m    371\u001b[39m     pygame.event.pump()\n\u001b[32m    372\u001b[39m     pygame.display.update()\n\u001b[32m--> \u001b[39m\u001b[32m373\u001b[39m     \u001b[38;5;28;43mself\u001b[39;49m\u001b[43m.\u001b[49m\u001b[43mclock\u001b[49m\u001b[43m.\u001b[49m\u001b[43mtick\u001b[49m\u001b[43m(\u001b[49m\u001b[38;5;28;43mself\u001b[39;49m\u001b[43m.\u001b[49m\u001b[43mmetadata\u001b[49m\u001b[43m[\u001b[49m\u001b[33;43m\"\u001b[39;49m\u001b[33;43mrender_fps\u001b[39;49m\u001b[33;43m\"\u001b[39;49m\u001b[43m]\u001b[49m\u001b[43m)\u001b[49m\n\u001b[32m    374\u001b[39m \u001b[38;5;28;01melif\u001b[39;00m mode == \u001b[33m\"\u001b[39m\u001b[33mrgb_array\u001b[39m\u001b[33m\"\u001b[39m:\n\u001b[32m    375\u001b[39m     \u001b[38;5;28;01mreturn\u001b[39;00m np.transpose(\n\u001b[32m    376\u001b[39m         np.array(pygame.surfarray.pixels3d(\u001b[38;5;28mself\u001b[39m.window_surface)), axes=(\u001b[32m1\u001b[39m, \u001b[32m0\u001b[39m, \u001b[32m2\u001b[39m)\n\u001b[32m    377\u001b[39m     )\n",
      "\u001b[31mKeyboardInterrupt\u001b[39m: "
     ]
    }
   ],
   "source": [
    "# visualize MC policy\n",
    "env=gym.make('FrozenLake-v1', desc=desc, map_name=\"4x4\", is_slippery=False,render_mode='human')\n",
    "(currentState,prob)=env.reset()\n",
    "env.render()\n",
    "\n",
    "# since the initial state is not a terminal state, set this flag to false\n",
    "terminalState=False\n",
    "for i in range(100):\n",
    "    # here we step and return the state, reward, and boolean denoting if the state is a terminal state\n",
    "    if not terminalState:\n",
    "        (currentState, currentReward, terminalState,_,_) = env.step(int(finalPolicy[currentState]))\n",
    "        \n",
    "    else:\n",
    "        break\n",
    "\n",
    "env.close()"
   ]
  },
  {
   "cell_type": "markdown",
   "id": "bf43f3fd",
   "metadata": {},
   "source": [
    "## GLIE MC"
   ]
  },
  {
   "cell_type": "code",
   "execution_count": 8,
   "id": "bc99eeb4",
   "metadata": {},
   "outputs": [
    {
     "ename": "KeyboardInterrupt",
     "evalue": "",
     "output_type": "error",
     "traceback": [
      "\u001b[31m---------------------------------------------------------------------------\u001b[39m",
      "\u001b[31mKeyboardInterrupt\u001b[39m                         Traceback (most recent call last)",
      "\u001b[36mCell\u001b[39m\u001b[36m \u001b[39m\u001b[32mIn[8]\u001b[39m\u001b[32m, line 4\u001b[39m\n\u001b[32m      1\u001b[39m \u001b[38;5;28;01mfrom\u001b[39;00m\u001b[38;5;250m \u001b[39m\u001b[34;01mglie_mc\u001b[39;00m\u001b[38;5;250m \u001b[39m\u001b[38;5;28;01mimport\u001b[39;00m GLIEMonteCarlo\n\u001b[32m      3\u001b[39m initialEpsilon = \u001b[32m0.2\u001b[39m\n\u001b[32m----> \u001b[39m\u001b[32m4\u001b[39m finalPolicy, _ = \u001b[43mGLIEMonteCarlo\u001b[49m\u001b[43m(\u001b[49m\u001b[43menv\u001b[49m\u001b[43m,\u001b[49m\u001b[43m \u001b[49m\u001b[43mnumEpisodes\u001b[49m\u001b[43m=\u001b[49m\u001b[43mnumberEpisodes\u001b[49m\u001b[43m,\u001b[49m\u001b[43m \u001b[49m\u001b[43mdiscountRate\u001b[49m\u001b[43m=\u001b[49m\u001b[43mdiscountRate\u001b[49m\u001b[43m,\u001b[49m\u001b[43m \u001b[49m\u001b[43minitialEpsilon\u001b[49m\u001b[43m=\u001b[49m\u001b[43minitialEpsilon\u001b[49m\u001b[43m)\u001b[49m\n",
      "\u001b[36mFile \u001b[39m\u001b[32md:\\VSC\\machine-learning-crash-course\\dnn\\rl\\glie_mc.py:38\u001b[39m, in \u001b[36mGLIEMonteCarlo\u001b[39m\u001b[34m(env, numEpisodes, discountRate, initialEpsilon)\u001b[39m\n\u001b[32m     35\u001b[39m action = selectAction(currentState, i)\n\u001b[32m     36\u001b[39m actionInSpace.append(action)\n\u001b[32m---> \u001b[39m\u001b[32m38\u001b[39m (currentState, currentReward, terminalState, _, _) = \u001b[43menv\u001b[49m\u001b[43m.\u001b[49m\u001b[43mstep\u001b[49m\u001b[43m(\u001b[49m\u001b[43maction\u001b[49m\u001b[43m)\u001b[49m\n\u001b[32m     39\u001b[39m rewardInEachEpsidoes.append(currentReward)\n\u001b[32m     41\u001b[39m \u001b[38;5;28;01mif\u001b[39;00m \u001b[38;5;129;01mnot\u001b[39;00m terminalState:\n",
      "\u001b[36mFile \u001b[39m\u001b[32md:\\miniconda\\envs\\diffusion\\Lib\\site-packages\\gym\\wrappers\\time_limit.py:50\u001b[39m, in \u001b[36mTimeLimit.step\u001b[39m\u001b[34m(self, action)\u001b[39m\n\u001b[32m     39\u001b[39m \u001b[38;5;28;01mdef\u001b[39;00m\u001b[38;5;250m \u001b[39m\u001b[34mstep\u001b[39m(\u001b[38;5;28mself\u001b[39m, action):\n\u001b[32m     40\u001b[39m \u001b[38;5;250m    \u001b[39m\u001b[33;03m\"\"\"Steps through the environment and if the number of steps elapsed exceeds ``max_episode_steps`` then truncate.\u001b[39;00m\n\u001b[32m     41\u001b[39m \n\u001b[32m     42\u001b[39m \u001b[33;03m    Args:\u001b[39;00m\n\u001b[32m   (...)\u001b[39m\u001b[32m     48\u001b[39m \n\u001b[32m     49\u001b[39m \u001b[33;03m    \"\"\"\u001b[39;00m\n\u001b[32m---> \u001b[39m\u001b[32m50\u001b[39m     observation, reward, terminated, truncated, info = \u001b[38;5;28;43mself\u001b[39;49m\u001b[43m.\u001b[49m\u001b[43menv\u001b[49m\u001b[43m.\u001b[49m\u001b[43mstep\u001b[49m\u001b[43m(\u001b[49m\u001b[43maction\u001b[49m\u001b[43m)\u001b[49m\n\u001b[32m     51\u001b[39m     \u001b[38;5;28mself\u001b[39m._elapsed_steps += \u001b[32m1\u001b[39m\n\u001b[32m     53\u001b[39m     \u001b[38;5;28;01mif\u001b[39;00m \u001b[38;5;28mself\u001b[39m._elapsed_steps >= \u001b[38;5;28mself\u001b[39m._max_episode_steps:\n",
      "\u001b[36mFile \u001b[39m\u001b[32md:\\miniconda\\envs\\diffusion\\Lib\\site-packages\\gym\\wrappers\\order_enforcing.py:37\u001b[39m, in \u001b[36mOrderEnforcing.step\u001b[39m\u001b[34m(self, action)\u001b[39m\n\u001b[32m     35\u001b[39m \u001b[38;5;28;01mif\u001b[39;00m \u001b[38;5;129;01mnot\u001b[39;00m \u001b[38;5;28mself\u001b[39m._has_reset:\n\u001b[32m     36\u001b[39m     \u001b[38;5;28;01mraise\u001b[39;00m ResetNeeded(\u001b[33m\"\u001b[39m\u001b[33mCannot call env.step() before calling env.reset()\u001b[39m\u001b[33m\"\u001b[39m)\n\u001b[32m---> \u001b[39m\u001b[32m37\u001b[39m \u001b[38;5;28;01mreturn\u001b[39;00m \u001b[38;5;28;43mself\u001b[39;49m\u001b[43m.\u001b[49m\u001b[43menv\u001b[49m\u001b[43m.\u001b[49m\u001b[43mstep\u001b[49m\u001b[43m(\u001b[49m\u001b[43maction\u001b[49m\u001b[43m)\u001b[49m\n",
      "\u001b[36mFile \u001b[39m\u001b[32md:\\miniconda\\envs\\diffusion\\Lib\\site-packages\\gym\\wrappers\\env_checker.py:39\u001b[39m, in \u001b[36mPassiveEnvChecker.step\u001b[39m\u001b[34m(self, action)\u001b[39m\n\u001b[32m     37\u001b[39m     \u001b[38;5;28;01mreturn\u001b[39;00m env_step_passive_checker(\u001b[38;5;28mself\u001b[39m.env, action)\n\u001b[32m     38\u001b[39m \u001b[38;5;28;01melse\u001b[39;00m:\n\u001b[32m---> \u001b[39m\u001b[32m39\u001b[39m     \u001b[38;5;28;01mreturn\u001b[39;00m \u001b[38;5;28;43mself\u001b[39;49m\u001b[43m.\u001b[49m\u001b[43menv\u001b[49m\u001b[43m.\u001b[49m\u001b[43mstep\u001b[49m\u001b[43m(\u001b[49m\u001b[43maction\u001b[49m\u001b[43m)\u001b[49m\n",
      "\u001b[36mFile \u001b[39m\u001b[32md:\\miniconda\\envs\\diffusion\\Lib\\site-packages\\gym\\envs\\toy_text\\frozen_lake.py:252\u001b[39m, in \u001b[36mFrozenLakeEnv.step\u001b[39m\u001b[34m(self, a)\u001b[39m\n\u001b[32m    249\u001b[39m \u001b[38;5;28mself\u001b[39m.lastaction = a\n\u001b[32m    251\u001b[39m \u001b[38;5;28;01mif\u001b[39;00m \u001b[38;5;28mself\u001b[39m.render_mode == \u001b[33m\"\u001b[39m\u001b[33mhuman\u001b[39m\u001b[33m\"\u001b[39m:\n\u001b[32m--> \u001b[39m\u001b[32m252\u001b[39m     \u001b[38;5;28;43mself\u001b[39;49m\u001b[43m.\u001b[49m\u001b[43mrender\u001b[49m\u001b[43m(\u001b[49m\u001b[43m)\u001b[49m\n\u001b[32m    253\u001b[39m \u001b[38;5;28;01mreturn\u001b[39;00m (\u001b[38;5;28mint\u001b[39m(s), r, t, \u001b[38;5;28;01mFalse\u001b[39;00m, {\u001b[33m\"\u001b[39m\u001b[33mprob\u001b[39m\u001b[33m\"\u001b[39m: p})\n",
      "\u001b[36mFile \u001b[39m\u001b[32md:\\miniconda\\envs\\diffusion\\Lib\\site-packages\\gym\\envs\\toy_text\\frozen_lake.py:279\u001b[39m, in \u001b[36mFrozenLakeEnv.render\u001b[39m\u001b[34m(self)\u001b[39m\n\u001b[32m    277\u001b[39m     \u001b[38;5;28;01mreturn\u001b[39;00m \u001b[38;5;28mself\u001b[39m._render_text()\n\u001b[32m    278\u001b[39m \u001b[38;5;28;01melse\u001b[39;00m:  \u001b[38;5;66;03m# self.render_mode in {\"human\", \"rgb_array\"}:\u001b[39;00m\n\u001b[32m--> \u001b[39m\u001b[32m279\u001b[39m     \u001b[38;5;28;01mreturn\u001b[39;00m \u001b[38;5;28;43mself\u001b[39;49m\u001b[43m.\u001b[49m\u001b[43m_render_gui\u001b[49m\u001b[43m(\u001b[49m\u001b[38;5;28;43mself\u001b[39;49m\u001b[43m.\u001b[49m\u001b[43mrender_mode\u001b[49m\u001b[43m)\u001b[49m\n",
      "\u001b[36mFile \u001b[39m\u001b[32md:\\miniconda\\envs\\diffusion\\Lib\\site-packages\\gym\\envs\\toy_text\\frozen_lake.py:373\u001b[39m, in \u001b[36mFrozenLakeEnv._render_gui\u001b[39m\u001b[34m(self, mode)\u001b[39m\n\u001b[32m    371\u001b[39m     pygame.event.pump()\n\u001b[32m    372\u001b[39m     pygame.display.update()\n\u001b[32m--> \u001b[39m\u001b[32m373\u001b[39m     \u001b[38;5;28;43mself\u001b[39;49m\u001b[43m.\u001b[49m\u001b[43mclock\u001b[49m\u001b[43m.\u001b[49m\u001b[43mtick\u001b[49m\u001b[43m(\u001b[49m\u001b[38;5;28;43mself\u001b[39;49m\u001b[43m.\u001b[49m\u001b[43mmetadata\u001b[49m\u001b[43m[\u001b[49m\u001b[33;43m\"\u001b[39;49m\u001b[33;43mrender_fps\u001b[39;49m\u001b[33;43m\"\u001b[39;49m\u001b[43m]\u001b[49m\u001b[43m)\u001b[49m\n\u001b[32m    374\u001b[39m \u001b[38;5;28;01melif\u001b[39;00m mode == \u001b[33m\"\u001b[39m\u001b[33mrgb_array\u001b[39m\u001b[33m\"\u001b[39m:\n\u001b[32m    375\u001b[39m     \u001b[38;5;28;01mreturn\u001b[39;00m np.transpose(\n\u001b[32m    376\u001b[39m         np.array(pygame.surfarray.pixels3d(\u001b[38;5;28mself\u001b[39m.window_surface)), axes=(\u001b[32m1\u001b[39m, \u001b[32m0\u001b[39m, \u001b[32m2\u001b[39m)\n\u001b[32m    377\u001b[39m     )\n",
      "\u001b[31mKeyboardInterrupt\u001b[39m: "
     ]
    }
   ],
   "source": [
    "from glie_mc import GLIEMonteCarlo\n",
    "\n",
    "initialEpsilon = 0.2\n",
    "finalPolicy, _ = GLIEMonteCarlo(env, numEpisodes=numberEpisodes, discountRate=discountRate, initialEpsilon=initialEpsilon)"
   ]
  },
  {
   "cell_type": "code",
   "execution_count": 16,
   "id": "0e777f30",
   "metadata": {},
   "outputs": [
    {
     "data": {
      "text/plain": [
       "(array([0., 1., 0., 0., 3., 1., 0., 1., 0., 3., 2., 2., 2., 1., 1., 0.]),\n",
       " array([[0.06858534, 0.0432761 , 0.01183445, 0.01865387],\n",
       "        [0.01047929, 0.10856882, 0.00421961, 0.04796053],\n",
       "        [0.13794384, 0.12514181, 0.00681232, 0.03303406],\n",
       "        [0.14808564, 0.12064583, 0.02507753, 0.09725351],\n",
       "        [0.01343108, 0.        , 0.01675613, 0.09157759],\n",
       "        [0.0332081 , 0.14548795, 0.02779643, 0.08754932],\n",
       "        [0.2156645 , 0.05465594, 0.16540142, 0.09662912],\n",
       "        [0.2645331 , 0.38067324, 0.26472065, 0.10612832],\n",
       "        [0.04190206, 0.00686737, 0.        , 0.        ],\n",
       "        [0.14299201, 0.00492696, 0.        , 0.18529657],\n",
       "        [0.        , 0.18239098, 0.42831358, 0.24936696],\n",
       "        [0.        , 0.56083059, 0.63204335, 0.4275    ],\n",
       "        [0.        , 0.        , 0.        , 0.        ],\n",
       "        [0.        , 0.25230583, 0.        , 0.        ],\n",
       "        [0.14050481, 0.58932751, 0.        , 0.        ],\n",
       "        [0.        , 0.        , 0.        , 0.        ]]))"
      ]
     },
     "execution_count": 16,
     "metadata": {},
     "output_type": "execute_result"
    }
   ],
   "source": [
    "finalPolicy, _"
   ]
  },
  {
   "cell_type": "code",
   "execution_count": 17,
   "id": "9cbbbef0",
   "metadata": {},
   "outputs": [
    {
     "name": "stderr",
     "output_type": "stream",
     "text": [
      "d:\\miniconda\\envs\\diffusion\\Lib\\site-packages\\gym\\utils\\passive_env_checker.py:233: DeprecationWarning: `np.bool8` is a deprecated alias for `np.bool_`.  (Deprecated NumPy 1.24)\n",
      "  if not isinstance(terminated, (bool, np.bool8)):\n"
     ]
    }
   ],
   "source": [
    "env=gym.make('FrozenLake-v1', desc=None, map_name=\"4x4\", is_slippery=False,render_mode='human')\n",
    "(currentState,prob)=env.reset()\n",
    "env.render()\n",
    "\n",
    "# since the initial state is not a terminal state, set this flag to false\n",
    "terminalState=False\n",
    "for i in range(100):\n",
    "    # here we step and return the state, reward, and boolean denoting if the state is a terminal state\n",
    "    if not terminalState:\n",
    "        (currentState, currentReward, terminalState,_,_) = env.step(int(finalPolicy[currentState]))\n",
    "        \n",
    "    else:\n",
    "        break\n",
    "\n",
    "env.close()"
   ]
  },
  {
   "cell_type": "code",
   "execution_count": null,
   "id": "707ef8f5",
   "metadata": {},
   "outputs": [],
   "source": []
  }
 ],
 "metadata": {
  "kernelspec": {
   "display_name": "diffusion",
   "language": "python",
   "name": "python3"
  },
  "language_info": {
   "codemirror_mode": {
    "name": "ipython",
    "version": 3
   },
   "file_extension": ".py",
   "mimetype": "text/x-python",
   "name": "python",
   "nbconvert_exporter": "python",
   "pygments_lexer": "ipython3",
   "version": "3.12.4"
  }
 },
 "nbformat": 4,
 "nbformat_minor": 5
}
